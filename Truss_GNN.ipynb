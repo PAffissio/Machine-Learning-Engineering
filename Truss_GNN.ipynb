{
 "cells": [
  {
   "cell_type": "markdown",
   "metadata": {},
   "source": [
    "### Importing, normailizing and separating data"
   ]
  },
  {
   "cell_type": "code",
   "execution_count": 77,
   "metadata": {},
   "outputs": [],
   "source": [
    "import numpy as np \n",
    "import tensorflow as tf\n",
    "from spektral.layers import GCNConv, GlobalSumPool\n",
    "from sklearn.preprocessing import StandardScaler\n",
    "\n",
    "truss_dat = np.load(\"Truss_dat.npy\")\n",
    "truss_areas = np.load(\"Truss_areas.npy\")\n",
    "truss_edges = np.load(\"Truss_edges.npy\")\n",
    "truss_disps = np.load(\"Stress_Disp_dat.npy\")\n",
    "\n",
    "e = 1e-15\n",
    "\n",
    "scaler = StandardScaler()\n",
    "scaled_disps = scaler.fit_transform(truss_disps)\n",
    "\n",
    "\n",
    "max_force = np.max(np.abs(truss_dat[:,:,2:3]))\n",
    "max_pos = np.max(np.abs(truss_dat[:,:,0:1]))\n",
    "max_area = np.max(truss_areas)\n",
    "\n",
    "truss_dat[:,:,0] #/= max_pos\n",
    "truss_dat[:,:,1] #/= max_pos\n",
    "truss_dat[:,:,2] /= max_force\n",
    "truss_dat[:,:,3] /= max_force\n",
    "truss_areas /= max_area"
   ]
  },
  {
   "cell_type": "markdown",
   "metadata": {},
   "source": [
    "### Building network architecture"
   ]
  },
  {
   "cell_type": "code",
   "execution_count": 78,
   "metadata": {},
   "outputs": [],
   "source": [
    "from keras import Input,Model\n",
    "from keras.layers import Dense,Add\n",
    "import keras.backend as K\n",
    "\n",
    "n_nodes = 6     \n",
    "n_features = 7\n",
    "latent_dim = 64 \n",
    "n_edges = 10      \n",
    "\n",
    "#   Defining Input\n",
    "X_in = Input(shape=(n_nodes,n_features), name='X_in')  # shape: (n_nodes, n_features)\n",
    "A_in = Input(shape=(n_nodes,n_nodes), name='A_in')  # shape: (n_nodes, n_nodes), sparse\n",
    "\n",
    "#   Defining encoder\n",
    "x1 = GCNConv(64, activation='relu')([X_in, A_in])\n",
    "x2 = GCNConv(64, activation='relu')([x1, A_in])\n",
    "add = Add()([x1,x2])\n",
    "x = GCNConv(32, activation='relu')([add, A_in])\n",
    "z = GlobalSumPool()(x)\n",
    "z = Dense(latent_dim, activation='relu', name='latent_vector')(z)\n",
    "\n",
    "#   Defining displacement FC\n",
    "disp_FC = Dense(128,activation='relu')(z)\n",
    "disp_FC = Dense(300)(disp_FC)\n",
    "disp_FC = Dense(2*n_nodes, name=\"Disps\")(disp_FC)\n",
    "\n",
    "#   Building and compiling model\n",
    "model = Model(inputs=[X_in, A_in], outputs=disp_FC,name=\"GNN_Autoencoder\")\n",
    "\n",
    "mean = tf.constant(scaler.mean_, dtype=tf.float32)\n",
    "scale = tf.constant(scaler.scale_, dtype=tf.float32)\n",
    "\n",
    "def inverse_transform(tensor):\n",
    "    return tensor * scale + mean\n",
    "\n",
    "def true_error(y_true, y_pred):\n",
    "    true = inverse_transform(y_true)\n",
    "    pred = inverse_transform(y_pred)\n",
    "    error = tf.abs(true - pred)\n",
    "    return tf.reduce_mean(error)\n",
    "\n",
    "model.compile(\n",
    "    optimizer=tf.keras.optimizers.Adam(learning_rate=1e-4),\n",
    "    loss=\"mae\",\n",
    "    metrics = true_error\n",
    ")"
   ]
  },
  {
   "cell_type": "markdown",
   "metadata": {},
   "source": [
    "### Constructing dense adjacency matrices"
   ]
  },
  {
   "cell_type": "code",
   "execution_count": 79,
   "metadata": {},
   "outputs": [
    {
     "name": "stdout",
     "output_type": "stream",
     "text": [
      "(20000, 6, 6)\n"
     ]
    }
   ],
   "source": [
    "def build_dense_array(edges,areas):\n",
    "    A = np.zeros([n_nodes,n_nodes])\n",
    "\n",
    "    for edge, area in zip(edges, areas):\n",
    "        i,j = tuple(edge)\n",
    "        A[i,j] = area\n",
    "        A[j,i] = area\n",
    "    \n",
    "    return A\n",
    "\n",
    "A_all = [build_dense_array(edges,areas) for edges,areas in zip(truss_edges,truss_areas)]\n",
    "\n",
    "\n",
    "A_all = np.array(A_all)\n",
    "print(A_all.shape)"
   ]
  },
  {
   "cell_type": "markdown",
   "metadata": {},
   "source": [
    "### Setting training parameters and training network"
   ]
  },
  {
   "cell_type": "code",
   "execution_count": 80,
   "metadata": {},
   "outputs": [
    {
     "name": "stdout",
     "output_type": "stream",
     "text": [
      "Epoch 1/50\n",
      "394/394 [==============================] - 3s 3ms/step - loss: 0.3870 - true_error: 0.0227 - val_loss: 0.3385 - val_true_error: 0.0082\n",
      "Epoch 2/50\n",
      "394/394 [==============================] - 1s 2ms/step - loss: 0.3281 - true_error: 0.0066 - val_loss: 0.3099 - val_true_error: 0.0042\n",
      "Epoch 3/50\n",
      "394/394 [==============================] - 1s 2ms/step - loss: 0.3123 - true_error: 0.0056 - val_loss: 0.3013 - val_true_error: 0.0042\n",
      "Epoch 4/50\n",
      "394/394 [==============================] - 1s 2ms/step - loss: 0.2988 - true_error: 0.0053 - val_loss: 0.2960 - val_true_error: 0.0072\n",
      "Epoch 5/50\n",
      "394/394 [==============================] - 1s 3ms/step - loss: 0.2927 - true_error: 0.0054 - val_loss: 0.2921 - val_true_error: 0.0040\n",
      "Epoch 6/50\n",
      "394/394 [==============================] - 1s 3ms/step - loss: 0.2861 - true_error: 0.0047 - val_loss: 0.2851 - val_true_error: 0.0042\n",
      "Epoch 7/50\n",
      "394/394 [==============================] - 1s 3ms/step - loss: 0.2838 - true_error: 0.0045 - val_loss: 0.2791 - val_true_error: 0.0042\n",
      "Epoch 8/50\n",
      "394/394 [==============================] - 1s 3ms/step - loss: 0.2806 - true_error: 0.0039 - val_loss: 0.2788 - val_true_error: 0.0037\n",
      "Epoch 9/50\n",
      "394/394 [==============================] - 1s 3ms/step - loss: 0.2777 - true_error: 0.0038 - val_loss: 0.2812 - val_true_error: 0.0031\n",
      "Epoch 10/50\n",
      "394/394 [==============================] - 1s 3ms/step - loss: 0.2755 - true_error: 0.0036 - val_loss: 0.2722 - val_true_error: 0.0042\n",
      "Epoch 11/50\n",
      "394/394 [==============================] - 1s 3ms/step - loss: 0.2739 - true_error: 0.0037 - val_loss: 0.2707 - val_true_error: 0.0035\n",
      "Epoch 12/50\n",
      "394/394 [==============================] - 1s 3ms/step - loss: 0.2705 - true_error: 0.0033 - val_loss: 0.2790 - val_true_error: 0.0024\n",
      "Epoch 13/50\n",
      "394/394 [==============================] - 1s 3ms/step - loss: 0.2692 - true_error: 0.0032 - val_loss: 0.2677 - val_true_error: 0.0024\n",
      "Epoch 14/50\n",
      "394/394 [==============================] - 1s 3ms/step - loss: 0.2681 - true_error: 0.0031 - val_loss: 0.2727 - val_true_error: 0.0040\n",
      "Epoch 15/50\n",
      "394/394 [==============================] - 2s 4ms/step - loss: 0.2669 - true_error: 0.0030 - val_loss: 0.2716 - val_true_error: 0.0029\n",
      "Epoch 16/50\n",
      "394/394 [==============================] - 1s 3ms/step - loss: 0.2667 - true_error: 0.0032 - val_loss: 0.2701 - val_true_error: 0.0026\n",
      "Epoch 17/50\n",
      "394/394 [==============================] - 1s 3ms/step - loss: 0.2669 - true_error: 0.0026 - val_loss: 0.2648 - val_true_error: 0.0019\n",
      "Epoch 18/50\n",
      "394/394 [==============================] - 1s 3ms/step - loss: 0.2651 - true_error: 0.0028 - val_loss: 0.2671 - val_true_error: 0.0031\n",
      "Epoch 19/50\n",
      "394/394 [==============================] - 1s 3ms/step - loss: 0.2640 - true_error: 0.0026 - val_loss: 0.2639 - val_true_error: 0.0023\n",
      "Epoch 20/50\n",
      "394/394 [==============================] - 1s 3ms/step - loss: 0.2635 - true_error: 0.0026 - val_loss: 0.2691 - val_true_error: 0.0021\n",
      "Epoch 21/50\n",
      "394/394 [==============================] - 1s 3ms/step - loss: 0.2621 - true_error: 0.0028 - val_loss: 0.2656 - val_true_error: 0.0027\n",
      "Epoch 22/50\n",
      "394/394 [==============================] - 1s 4ms/step - loss: 0.2635 - true_error: 0.0025 - val_loss: 0.2651 - val_true_error: 0.0020\n",
      "Epoch 23/50\n",
      "394/394 [==============================] - 1s 3ms/step - loss: 0.2608 - true_error: 0.0024 - val_loss: 0.2625 - val_true_error: 0.0017\n",
      "Epoch 24/50\n",
      "394/394 [==============================] - 1s 3ms/step - loss: 0.2605 - true_error: 0.0024 - val_loss: 0.2633 - val_true_error: 0.0016\n",
      "Epoch 25/50\n",
      "394/394 [==============================] - 1s 3ms/step - loss: 0.2610 - true_error: 0.0023 - val_loss: 0.2710 - val_true_error: 0.0024\n",
      "Epoch 26/50\n",
      "394/394 [==============================] - 1s 3ms/step - loss: 0.2598 - true_error: 0.0022 - val_loss: 0.2603 - val_true_error: 0.0022\n",
      "Epoch 27/50\n",
      "394/394 [==============================] - 1s 3ms/step - loss: 0.2599 - true_error: 0.0021 - val_loss: 0.2602 - val_true_error: 0.0015\n",
      "Epoch 28/50\n",
      "394/394 [==============================] - 1s 3ms/step - loss: 0.2581 - true_error: 0.0020 - val_loss: 0.2594 - val_true_error: 0.0020\n",
      "Epoch 29/50\n",
      "394/394 [==============================] - 1s 3ms/step - loss: 0.2578 - true_error: 0.0020 - val_loss: 0.2593 - val_true_error: 0.0014\n",
      "Epoch 30/50\n",
      "394/394 [==============================] - 1s 4ms/step - loss: 0.2581 - true_error: 0.0020 - val_loss: 0.2590 - val_true_error: 0.0027\n",
      "Epoch 31/50\n",
      "394/394 [==============================] - 1s 3ms/step - loss: 0.2569 - true_error: 0.0020 - val_loss: 0.2575 - val_true_error: 0.0012\n",
      "Epoch 32/50\n",
      "394/394 [==============================] - 1s 3ms/step - loss: 0.2564 - true_error: 0.0020 - val_loss: 0.2574 - val_true_error: 0.0020\n",
      "Epoch 33/50\n",
      "394/394 [==============================] - 1s 3ms/step - loss: 0.2566 - true_error: 0.0020 - val_loss: 0.2570 - val_true_error: 0.0022\n",
      "Epoch 34/50\n",
      "394/394 [==============================] - 1s 3ms/step - loss: 0.2561 - true_error: 0.0018 - val_loss: 0.2599 - val_true_error: 0.0019\n",
      "Epoch 35/50\n",
      "394/394 [==============================] - 1s 3ms/step - loss: 0.2556 - true_error: 0.0018 - val_loss: 0.2647 - val_true_error: 0.0018\n",
      "Epoch 36/50\n",
      "394/394 [==============================] - 1s 3ms/step - loss: 0.2556 - true_error: 0.0017 - val_loss: 0.2577 - val_true_error: 0.0020\n",
      "Epoch 37/50\n",
      "394/394 [==============================] - 1s 3ms/step - loss: 0.2552 - true_error: 0.0019 - val_loss: 0.2628 - val_true_error: 0.0032\n",
      "Epoch 38/50\n",
      "394/394 [==============================] - 1s 3ms/step - loss: 0.2541 - true_error: 0.0016 - val_loss: 0.2568 - val_true_error: 0.0015\n",
      "Epoch 39/50\n",
      "394/394 [==============================] - 1s 3ms/step - loss: 0.2540 - true_error: 0.0016 - val_loss: 0.2589 - val_true_error: 0.0030\n",
      "Epoch 40/50\n",
      "394/394 [==============================] - 1s 3ms/step - loss: 0.2551 - true_error: 0.0018 - val_loss: 0.2605 - val_true_error: 0.0018\n",
      "Epoch 41/50\n",
      "394/394 [==============================] - 1s 3ms/step - loss: 0.2536 - true_error: 0.0016 - val_loss: 0.2576 - val_true_error: 0.0015\n",
      "Epoch 42/50\n",
      "394/394 [==============================] - 1s 3ms/step - loss: 0.2544 - true_error: 0.0017 - val_loss: 0.2567 - val_true_error: 0.0012\n",
      "Epoch 43/50\n",
      "394/394 [==============================] - 1s 3ms/step - loss: 0.2534 - true_error: 0.0016 - val_loss: 0.2661 - val_true_error: 0.0016\n",
      "Epoch 44/50\n",
      "394/394 [==============================] - 1s 3ms/step - loss: 0.2529 - true_error: 0.0015 - val_loss: 0.2557 - val_true_error: 0.0012\n",
      "Epoch 45/50\n",
      "394/394 [==============================] - 1s 3ms/step - loss: 0.2526 - true_error: 0.0015 - val_loss: 0.2553 - val_true_error: 0.0016\n",
      "Epoch 46/50\n",
      "394/394 [==============================] - 1s 3ms/step - loss: 0.2519 - true_error: 0.0016 - val_loss: 0.2569 - val_true_error: 0.0018\n",
      "Epoch 47/50\n",
      "394/394 [==============================] - 1s 3ms/step - loss: 0.2520 - true_error: 0.0015 - val_loss: 0.2588 - val_true_error: 0.0015\n",
      "Epoch 48/50\n",
      "394/394 [==============================] - 1s 3ms/step - loss: 0.2518 - true_error: 0.0014 - val_loss: 0.2633 - val_true_error: 0.0014\n",
      "Epoch 49/50\n",
      "394/394 [==============================] - 1s 3ms/step - loss: 0.2515 - true_error: 0.0014 - val_loss: 0.2588 - val_true_error: 0.0019\n",
      "Epoch 50/50\n",
      "394/394 [==============================] - 1s 3ms/step - loss: 0.2523 - true_error: 0.0015 - val_loss: 0.2642 - val_true_error: 0.0013\n"
     ]
    }
   ],
   "source": [
    "from sklearn.model_selection import train_test_split\n",
    "\n",
    "epochs = 50\n",
    "batch_size = 32\n",
    "val_split = 0.1\n",
    "\n",
    "feat_train, feat_test, A_train, A_test, disp_train, disp_test = train_test_split(truss_dat,A_all,scaled_disps,train_size=0.7)\n",
    "\n",
    "X_train = [feat_train, A_train]\n",
    "y_train = disp_train\n",
    "\n",
    "X_test = [feat_test, A_test]\n",
    "y_test = disp_test\n",
    "\n",
    "history = model.fit(X_train,y_train,batch_size=batch_size,epochs=epochs,validation_split=val_split)"
   ]
  },
  {
   "cell_type": "markdown",
   "metadata": {},
   "source": [
    "### Determining model accuracy"
   ]
  },
  {
   "cell_type": "code",
   "execution_count": 81,
   "metadata": {},
   "outputs": [
    {
     "name": "stdout",
     "output_type": "stream",
     "text": [
      "188/188 [==============================] - 0s 1ms/step\n",
      "Average percent error: 208.17822 %\n",
      "Mean absolute error: 0.00011153068\n"
     ]
    }
   ],
   "source": [
    "from keras.metrics import MeanAbsolutePercentageError, MeanAbsoluteError\n",
    "\n",
    "mape = MeanAbsolutePercentageError()\n",
    "mae = MeanAbsoluteError()\n",
    "\n",
    "y_true = scaler.inverse_transform(disp_test)\n",
    "preds = scaler.inverse_transform(model.predict(X_test))\n",
    "\n",
    "preds[:,0:4] = 0\n",
    "\n",
    "mape.update_state(y_true,preds)\n",
    "mae.update_state(y_true,preds)\n",
    "\n",
    "print(\"Average percent error:\", mape.result().numpy(), \"%\")\n",
    "print(\"Mean absolute error:\", mae.result().numpy())"
   ]
  },
  {
   "cell_type": "markdown",
   "metadata": {},
   "source": [
    "This model is preforming incredibly well for predicting displacements from truss inputs. I made the decision to switch to a graph based network after some searching and the realization that a CNN was not well-suited for my problem. This decision seems to have paid off, as this model is proving to be able to much better handle this type of data. "
   ]
  },
  {
   "cell_type": "code",
   "execution_count": 82,
   "metadata": {},
   "outputs": [
    {
     "data": {
      "text/plain": [
       "Text(0, 0.5, 'Mean Absolute Error')"
      ]
     },
     "execution_count": 82,
     "metadata": {},
     "output_type": "execute_result"
    },
    {
     "data": {
      "image/png": "[encoded data removed]",
      "text/plain": [
       "<Figure size 640x480 with 1 Axes>"
      ]
     },
     "metadata": {},
     "output_type": "display_data"
    }
   ],
   "source": [
    "import matplotlib.pyplot as plt\n",
    "train_err = history.history['loss']\n",
    "val_err = history.history['val_loss']\n",
    "epochs = history.epoch\n",
    "\n",
    "plt.plot(epochs,train_err,\"r-\")\n",
    "plt.plot(epochs,val_err,'b:')\n",
    "plt.title(\"Training History\")\n",
    "plt.xlabel(\"Epoch\")\n",
    "plt.ylabel(\"Mean Absolute Error\")"
   ]
  }
 ],
 "metadata": {
  "kernelspec": {
   "display_name": "base",
   "language": "python",
   "name": "python3"
  },
  "language_info": {
   "codemirror_mode": {
    "name": "ipython",
    "version": 3
   },
   "file_extension": ".py",
   "mimetype": "text/x-python",
   "name": "python",
   "nbconvert_exporter": "python",
   "pygments_lexer": "ipython3",
   "version": "3.10.8"
  }
 },
 "nbformat": 4,
 "nbformat_minor": 2
}
