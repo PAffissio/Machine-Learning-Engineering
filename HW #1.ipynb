{
 "cells": [
  {
   "cell_type": "markdown",
   "metadata": {},
   "source": [
    "## Question 1:\n",
    "### a)\n",
    "*   x1 has 5 features\n",
    "*   x2 has 4 features\n",
    "### b)"
   ]
  },
  {
   "cell_type": "code",
   "execution_count": 2,
   "metadata": {},
   "outputs": [
    {
     "name": "stdout",
     "output_type": "stream",
     "text": [
      "\n",
      "x1:\n",
      "\t1-norm: 26.0\n",
      "\t2-norm: 13.19090595827292\n",
      "\tinf-norm: 9.0\n",
      "x2:\n",
      "\t1-norm: 98.0\n",
      "\t2-norm: 89.16277250063504\n",
      "\tinf-norm: 89.0\n"
     ]
    }
   ],
   "source": [
    "import numpy as np\n",
    "x1 = np.array([2,3,4,8,9])\n",
    "x2 = np.array([2,-3,-4,89])\n",
    "print(f'\\nx1:\\n\\t1-norm: {np.linalg.norm(x1,ord=1)}\\n\\t2-norm: {np.linalg.norm(x1,ord=2)}\\n\\tinf-norm: {np.linalg.norm(x1,ord=np.inf)}')\n",
    "print(f'x2:\\n\\t1-norm: {np.linalg.norm(x2,ord=1)}\\n\\t2-norm: {np.linalg.norm(x2,ord=2)}\\n\\tinf-norm: {np.linalg.norm(x2,ord=np.inf)}')"
   ]
  },
  {
   "cell_type": "markdown",
   "metadata": {},
   "source": [
    "## Question 2:\n",
    "### a)\n",
    "x would have a length of 1028*1028 = 1,056,784\n",
    "### b)\n",
    "y would have a length of 64*64 = 4,096\n",
    "### c)\n",
    "W has a number of elements equal to the product of the lengths of x and y, which is 1,056,784*4,096 = 4.33e9 elements.\n",
    "b is the same length as y and therefore has 4,096 elemets"
   ]
  },
  {
   "cell_type": "markdown",
   "metadata": {},
   "source": [
    "## Question 3:"
   ]
  },
  {
   "cell_type": "code",
   "execution_count": 3,
   "metadata": {},
   "outputs": [
    {
     "name": "stdout",
     "output_type": "stream",
     "text": [
      "1-norm: 3.0\n",
      "2-norm: 2.2882456112707374\n",
      "inf-norm: 2.0\n",
      "Frobenius-norm: 2.449489742783178\n"
     ]
    }
   ],
   "source": [
    "w = np.array([[1,-1],[2,0]])\n",
    "print(f'1-norm: {np.linalg.norm(w,ord=1)}\\n2-norm: {np.linalg.norm(w,ord=2)}\\ninf-norm: {np.linalg.norm(w,ord=np.inf)}\\nFrobenius-norm: {np.linalg.norm(w,\"fro\")}')"
   ]
  },
  {
   "cell_type": "markdown",
   "metadata": {},
   "source": [
    "## Question 4:"
   ]
  },
  {
   "cell_type": "code",
   "execution_count": 4,
   "metadata": {},
   "outputs": [
    {
     "name": "stdout",
     "output_type": "stream",
     "text": [
      "accuracy score : 0.9333333333333333\n"
     ]
    }
   ],
   "source": [
    "from sklearn import datasets # type: ignore\n",
    "from sklearn.model_selection import train_test_split # type: ignore\n",
    "from sklearn import svm # type: ignore\n",
    "from sklearn.metrics import accuracy_score # type: ignore\n",
    "\n",
    "iris = datasets.load_iris()\n",
    "\n",
    "X = iris.data[:,:3]\n",
    "y = iris.target\n",
    "\n",
    "X_train, X_test, y_train, y_test=train_test_split(\n",
    "    X,y,\n",
    "    test_size=0.40,\n",
    "    train_size=0.60,\n",
    "    random_state=123,\n",
    "    shuffle=True,\n",
    "    stratify=y)\n",
    "\n",
    "clf = svm.SVC()\n",
    "clf.fit(X_train, y_train)\n",
    "\n",
    "acc = accuracy_score(y_test,clf.predict(X_test) )\n",
    "print('accuracy score :', acc)"
   ]
  },
  {
   "cell_type": "markdown",
   "metadata": {},
   "source": [
    "## Question 5"
   ]
  },
  {
   "cell_type": "code",
   "execution_count": 18,
   "metadata": {},
   "outputs": [
    {
     "name": "stdout",
     "output_type": "stream",
     "text": [
      "Model: \"sequential_13\"\n",
      "_________________________________________________________________\n",
      " Layer (type)                Output Shape              Param #   \n",
      "=================================================================\n",
      " dense_73 (Dense)            (None, 10)                20        \n",
      "                                                                 \n",
      " dense_74 (Dense)            (None, 10)                110       \n",
      "                                                                 \n",
      " dense_75 (Dense)            (None, 10)                110       \n",
      "                                                                 \n",
      " dense_76 (Dense)            (None, 1)                 11        \n",
      "                                                                 \n",
      "=================================================================\n",
      "Total params: 251\n",
      "Trainable params: 251\n",
      "Non-trainable params: 0\n",
      "_________________________________________________________________\n",
      "4/4 [==============================] - 0s 3ms/step\n",
      "1.0 => 1.01 (expected 1.00)\n",
      "2.0 => 1.09 (expected 1.10)\n",
      "3.0 => 1.17 (expected 1.17)\n",
      "4.0 => 1.22 (expected 1.22)\n",
      "5.0 => 1.28 (expected 1.26)\n",
      "6.0 => 1.30 (expected 1.29)\n",
      "7.0 => 1.32 (expected 1.32)\n",
      "8.0 => 1.34 (expected 1.35)\n",
      "9.0 => 1.36 (expected 1.37)\n",
      "10.0 => 1.38 (expected 1.39)\n",
      "11.0 => 1.40 (expected 1.41)\n",
      "12.0 => 1.43 (expected 1.43)\n",
      "13.0 => 1.44 (expected 1.44)\n",
      "14.0 => 1.46 (expected 1.46)\n",
      "15.0 => 1.47 (expected 1.47)\n",
      "16.0 => 1.49 (expected 1.49)\n",
      "17.0 => 1.50 (expected 1.50)\n",
      "18.0 => 1.52 (expected 1.51)\n",
      "19.0 => 1.53 (expected 1.52)\n",
      "20.0 => 1.55 (expected 1.53)\n",
      "21.0 => 1.56 (expected 1.54)\n",
      "22.0 => 1.57 (expected 1.56)\n",
      "23.0 => 1.58 (expected 1.57)\n",
      "24.0 => 1.58 (expected 1.57)\n",
      "25.0 => 1.59 (expected 1.58)\n",
      "26.0 => 1.60 (expected 1.59)\n",
      "27.0 => 1.60 (expected 1.60)\n",
      "28.0 => 1.61 (expected 1.61)\n",
      "29.0 => 1.62 (expected 1.62)\n",
      "30.0 => 1.63 (expected 1.63)\n",
      "31.0 => 1.63 (expected 1.63)\n",
      "32.0 => 1.64 (expected 1.64)\n",
      "33.0 => 1.65 (expected 1.65)\n",
      "34.0 => 1.66 (expected 1.65)\n",
      "35.0 => 1.66 (expected 1.66)\n",
      "36.0 => 1.67 (expected 1.67)\n",
      "37.0 => 1.68 (expected 1.68)\n",
      "38.0 => 1.68 (expected 1.68)\n",
      "39.0 => 1.69 (expected 1.69)\n",
      "40.0 => 1.70 (expected 1.69)\n",
      "41.0 => 1.71 (expected 1.70)\n",
      "42.0 => 1.71 (expected 1.71)\n",
      "43.0 => 1.72 (expected 1.71)\n",
      "44.0 => 1.73 (expected 1.72)\n",
      "45.0 => 1.74 (expected 1.72)\n",
      "46.0 => 1.74 (expected 1.73)\n",
      "47.0 => 1.75 (expected 1.73)\n",
      "48.0 => 1.75 (expected 1.74)\n",
      "49.0 => 1.76 (expected 1.74)\n",
      "50.0 => 1.76 (expected 1.75)\n",
      "51.0 => 1.76 (expected 1.75)\n",
      "52.0 => 1.77 (expected 1.76)\n",
      "53.0 => 1.77 (expected 1.76)\n",
      "54.0 => 1.77 (expected 1.77)\n",
      "55.0 => 1.78 (expected 1.77)\n",
      "56.0 => 1.78 (expected 1.78)\n",
      "57.0 => 1.79 (expected 1.78)\n",
      "58.0 => 1.79 (expected 1.79)\n",
      "59.0 => 1.79 (expected 1.79)\n",
      "60.0 => 1.80 (expected 1.79)\n",
      "61.0 => 1.80 (expected 1.80)\n",
      "62.0 => 1.80 (expected 1.80)\n",
      "63.0 => 1.81 (expected 1.81)\n",
      "64.0 => 1.81 (expected 1.81)\n",
      "65.0 => 1.82 (expected 1.82)\n",
      "66.0 => 1.82 (expected 1.82)\n",
      "67.0 => 1.82 (expected 1.82)\n",
      "68.0 => 1.83 (expected 1.83)\n",
      "69.0 => 1.83 (expected 1.83)\n",
      "70.0 => 1.83 (expected 1.83)\n",
      "71.0 => 1.84 (expected 1.84)\n",
      "72.0 => 1.84 (expected 1.84)\n",
      "73.0 => 1.85 (expected 1.85)\n",
      "74.0 => 1.85 (expected 1.85)\n",
      "75.0 => 1.85 (expected 1.85)\n",
      "76.0 => 1.86 (expected 1.86)\n",
      "77.0 => 1.86 (expected 1.86)\n",
      "78.0 => 1.86 (expected 1.86)\n",
      "79.0 => 1.87 (expected 1.87)\n",
      "80.0 => 1.87 (expected 1.87)\n",
      "81.0 => 1.87 (expected 1.87)\n",
      "82.0 => 1.88 (expected 1.88)\n",
      "83.0 => 1.88 (expected 1.88)\n",
      "84.0 => 1.89 (expected 1.88)\n",
      "85.0 => 1.89 (expected 1.89)\n",
      "86.0 => 1.89 (expected 1.89)\n",
      "87.0 => 1.90 (expected 1.89)\n",
      "88.0 => 1.90 (expected 1.90)\n",
      "89.0 => 1.90 (expected 1.90)\n",
      "90.0 => 1.91 (expected 1.90)\n",
      "91.0 => 1.91 (expected 1.90)\n",
      "92.0 => 1.92 (expected 1.91)\n",
      "93.0 => 1.92 (expected 1.91)\n",
      "94.0 => 1.92 (expected 1.91)\n",
      "95.0 => 1.93 (expected 1.92)\n",
      "96.0 => 1.93 (expected 1.92)\n",
      "97.0 => 1.93 (expected 1.92)\n",
      "98.0 => 1.94 (expected 1.93)\n",
      "99.0 => 1.94 (expected 1.93)\n",
      "100.0 => 1.95 (expected 1.93)\n"
     ]
    },
    {
     "name": "stderr",
     "output_type": "stream",
     "text": [
      "C:\\Users\\Patrick\\AppData\\Local\\Temp\\ipykernel_16008\\1733823619.py:37: DeprecationWarning: Conversion of an array with ndim > 0 to a scalar is deprecated, and will error in future. Ensure you extract a single element from your array before performing this operation. (Deprecated NumPy 1.25.)\n",
      "  print('%s => %.2f (expected %.2f)' %(X[i].tolist(), predictions[i], y[i]) )\n"
     ]
    }
   ],
   "source": [
    "import tensorflow as tf\n",
    "from numpy import loadtxt\n",
    "from keras.models import Sequential # type: ignore\n",
    "from keras.layers import Dense # type: ignore\n",
    "from keras import optimizers\n",
    "from tensorflow.python.keras.optimizers import *\n",
    "import numpy as np\n",
    "\n",
    "\n",
    "X = np.linspace(1,100,100)\n",
    "y = np.array([x**(1/7) for x in X])\n",
    "\n",
    "model = Sequential()\n",
    "\n",
    "model.add(Dense(10,input_dim=1,activation='relu'))\n",
    "model.add(Dense(10,activation='relu'))\n",
    "model.add(Dense(10,activation='relu'))\n",
    "model.add(Dense(1))\n",
    "\n",
    "#compile the keras model\n",
    "opt = optimizers.Adam(learning_rate=0.001)\n",
    "mse = tf.keras.losses.MeanSquaredError(\n",
    "    reduction=tf.keras.losses.Reduction.SUM)\n",
    "model.compile(loss=mse, optimizer=opt)\n",
    "\n",
    "\n",
    "\n",
    "#fit the keras model on the dataset (CPU)\n",
    "model.fit(X,y,epochs=2000,batch_size=10, verbose=0)\n",
    "model.summary()\n",
    "\n",
    "#make class predictions with the model\n",
    "predictions = model.predict(X)\n",
    "\n",
    "#summarize the first 10 cases\n",
    "for i in range(100):\n",
    "    print('%s => %.2f (expected %.2f)' %(X[i].tolist(), predictions[i], y[i]) )\n"
   ]
  },
  {
   "cell_type": "markdown",
   "metadata": {},
   "source": [
    "## Question 6:"
   ]
  },
  {
   "cell_type": "code",
   "execution_count": 10,
   "metadata": {},
   "outputs": [
    {
     "name": "stdout",
     "output_type": "stream",
     "text": [
      "Model: \"sequential_8\"\n",
      "_________________________________________________________________\n",
      " Layer (type)                Output Shape              Param #   \n",
      "=================================================================\n",
      " dense_32 (Dense)            (None, 10)                20        \n",
      "                                                                 \n",
      " dense_33 (Dense)            (None, 10)                110       \n",
      "                                                                 \n",
      " dense_34 (Dense)            (None, 10)                110       \n",
      "                                                                 \n",
      " dense_35 (Dense)            (None, 1)                 11        \n",
      "                                                                 \n",
      "=================================================================\n",
      "Total params: 251\n",
      "Trainable params: 251\n",
      "Non-trainable params: 0\n",
      "_________________________________________________________________\n",
      "2/2 [==============================] - 0s 4ms/step\n"
     ]
    },
    {
     "data": {
      "text/plain": [
       "<matplotlib.legend.Legend at 0x1bc6daeed10>"
      ]
     },
     "execution_count": 10,
     "metadata": {},
     "output_type": "execute_result"
    },
    {
     "data": {
      "image/png": "[encoded data removed]",
      "text/plain": [
       "<Figure size 640x480 with 1 Axes>"
      ]
     },
     "metadata": {},
     "output_type": "display_data"
    }
   ],
   "source": [
    "import tensorflow as tf\n",
    "import numpy as np\n",
    "from sklearn import datasets # type: ignore\n",
    "from keras.models import Sequential # type: ignore\n",
    "from keras.layers import Dense # type: ignore\n",
    "from keras import optimizers\n",
    "import matplotlib.pyplot as plt # type: ignore\n",
    "\n",
    "iris = datasets.load_iris()\n",
    "\n",
    "X = iris.data[:,0]\n",
    "y = iris.data[:,2]\n",
    "\n",
    "model = Sequential()\n",
    "\n",
    "model.add(Dense(10,input_dim=1,activation='relu'))\n",
    "model.add(Dense(10,activation='relu'))\n",
    "model.add(Dense(10,activation='relu'))\n",
    "model.add(Dense(1))\n",
    "\n",
    "#compile the keras model\n",
    "opt = optimizers.Adam(learning_rate=0.001)\n",
    "mse = tf.keras.losses.MeanSquaredError(\n",
    "    reduction=tf.keras.losses.Reduction.SUM)\n",
    "model.compile(loss=mse, optimizer=opt)\n",
    "\n",
    "\n",
    "\n",
    "#fit the keras model on the dataset (CPU)\n",
    "model.fit(X,y,epochs=2000,batch_size=10, verbose=0)\n",
    "model.summary()\n",
    "\n",
    "#make class predictions with the model\n",
    "X_test = np.linspace(min(X),max(X))\n",
    "predictions = model.predict(X_test)\n",
    "\n",
    "plt.scatter(X,y, label=\"Data\")\n",
    "plt.plot(X_test,predictions,'r-', label=\"Model\")\n",
    "plt.xlabel(iris.feature_names[0])\n",
    "plt.ylabel(iris.feature_names[2])\n",
    "plt.legend()"
   ]
  }
 ],
 "metadata": {
  "kernelspec": {
   "display_name": "base",
   "language": "python",
   "name": "python3"
  },
  "language_info": {
   "codemirror_mode": {
    "name": "ipython",
    "version": 3
   },
   "file_extension": ".py",
   "mimetype": "text/x-python",
   "name": "python",
   "nbconvert_exporter": "python",
   "pygments_lexer": "ipython3",
   "version": "3.10.14"
  }
 },
 "nbformat": 4,
 "nbformat_minor": 2
}
